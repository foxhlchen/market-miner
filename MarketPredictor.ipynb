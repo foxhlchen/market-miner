{
 "cells": [
  {
   "cell_type": "markdown",
   "metadata": {},
   "source": [
    "# Market Predictor"
   ]
  },
  {
   "cell_type": "markdown",
   "metadata": {},
   "source": [
    "## Loading data"
   ]
  },
  {
   "cell_type": "code",
   "execution_count": 1,
   "metadata": {
    "collapsed": false
   },
   "outputs": [
    {
     "data": {
      "text/html": [
       "<div>\n",
       "<table border=\"1\" class=\"dataframe\">\n",
       "  <thead>\n",
       "    <tr style=\"text-align: right;\">\n",
       "      <th></th>\n",
       "      <th>Date</th>\n",
       "      <th>Open</th>\n",
       "      <th>Close</th>\n",
       "      <th>ChgVol</th>\n",
       "      <th>Chg</th>\n",
       "      <th>Low</th>\n",
       "      <th>High</th>\n",
       "      <th>Vol</th>\n",
       "      <th>Amt</th>\n",
       "      <th>TORate</th>\n",
       "    </tr>\n",
       "  </thead>\n",
       "  <tbody>\n",
       "    <tr>\n",
       "      <th>0</th>\n",
       "      <td>2017-02-21</td>\n",
       "      <td>18.09</td>\n",
       "      <td>18.29</td>\n",
       "      <td>0.29</td>\n",
       "      <td>1.61</td>\n",
       "      <td>17.92</td>\n",
       "      <td>18.56</td>\n",
       "      <td>149574</td>\n",
       "      <td>27320.84</td>\n",
       "      <td>1.62</td>\n",
       "    </tr>\n",
       "    <tr>\n",
       "      <th>1</th>\n",
       "      <td>2017-02-20</td>\n",
       "      <td>17.83</td>\n",
       "      <td>18.00</td>\n",
       "      <td>0.16</td>\n",
       "      <td>0.90</td>\n",
       "      <td>17.70</td>\n",
       "      <td>18.01</td>\n",
       "      <td>65991</td>\n",
       "      <td>11806.87</td>\n",
       "      <td>0.71</td>\n",
       "    </tr>\n",
       "    <tr>\n",
       "      <th>2</th>\n",
       "      <td>2017-02-17</td>\n",
       "      <td>18.10</td>\n",
       "      <td>17.84</td>\n",
       "      <td>-0.26</td>\n",
       "      <td>-1.44</td>\n",
       "      <td>17.80</td>\n",
       "      <td>18.17</td>\n",
       "      <td>95004</td>\n",
       "      <td>17051.83</td>\n",
       "      <td>1.03</td>\n",
       "    </tr>\n",
       "    <tr>\n",
       "      <th>3</th>\n",
       "      <td>2017-02-16</td>\n",
       "      <td>18.28</td>\n",
       "      <td>18.10</td>\n",
       "      <td>0.11</td>\n",
       "      <td>0.61</td>\n",
       "      <td>18.01</td>\n",
       "      <td>18.28</td>\n",
       "      <td>60777</td>\n",
       "      <td>10991.66</td>\n",
       "      <td>0.66</td>\n",
       "    </tr>\n",
       "    <tr>\n",
       "      <th>4</th>\n",
       "      <td>2017-02-15</td>\n",
       "      <td>18.30</td>\n",
       "      <td>17.99</td>\n",
       "      <td>-0.31</td>\n",
       "      <td>-1.69</td>\n",
       "      <td>17.93</td>\n",
       "      <td>18.37</td>\n",
       "      <td>102305</td>\n",
       "      <td>18599.72</td>\n",
       "      <td>1.11</td>\n",
       "    </tr>\n",
       "  </tbody>\n",
       "</table>\n",
       "</div>"
      ],
      "text/plain": [
       "         Date   Open  Close  ChgVol   Chg    Low   High     Vol       Amt  \\\n",
       "0  2017-02-21  18.09  18.29    0.29  1.61  17.92  18.56  149574  27320.84   \n",
       "1  2017-02-20  17.83  18.00    0.16  0.90  17.70  18.01   65991  11806.87   \n",
       "2  2017-02-17  18.10  17.84   -0.26 -1.44  17.80  18.17   95004  17051.83   \n",
       "3  2017-02-16  18.28  18.10    0.11  0.61  18.01  18.28   60777  10991.66   \n",
       "4  2017-02-15  18.30  17.99   -0.31 -1.69  17.93  18.37  102305  18599.72   \n",
       "\n",
       "   TORate  \n",
       "0    1.62  \n",
       "1    0.71  \n",
       "2    1.03  \n",
       "3    0.66  \n",
       "4    1.11  "
      ]
     },
     "execution_count": 1,
     "metadata": {},
     "output_type": "execute_result"
    }
   ],
   "source": [
    "import numpy as np\n",
    "import pandas as pd\n",
    "\n",
    "\n",
    "df = pd.read_csv('csv/000997.csv')\n",
    "df.head()"
   ]
  },
  {
   "cell_type": "markdown",
   "metadata": {},
   "source": [
    "## Cleaning the data"
   ]
  },
  {
   "cell_type": "markdown",
   "metadata": {},
   "source": [
    "### Calculating amplitude"
   ]
  },
  {
   "cell_type": "code",
   "execution_count": 2,
   "metadata": {
    "collapsed": false,
    "scrolled": false
   },
   "outputs": [],
   "source": [
    "df['Amp'] = df.apply(lambda row: (row['High'] - row['Low']) / row['Open'] * 100 ,axis=1)"
   ]
  },
  {
   "cell_type": "markdown",
   "metadata": {},
   "source": [
    "### Droping redundant columns"
   ]
  },
  {
   "cell_type": "code",
   "execution_count": 3,
   "metadata": {
    "collapsed": false,
    "scrolled": false
   },
   "outputs": [
    {
     "data": {
      "text/html": [
       "<div>\n",
       "<table border=\"1\" class=\"dataframe\">\n",
       "  <thead>\n",
       "    <tr style=\"text-align: right;\">\n",
       "      <th></th>\n",
       "      <th>Chg</th>\n",
       "      <th>TORate</th>\n",
       "      <th>Amp</th>\n",
       "    </tr>\n",
       "  </thead>\n",
       "  <tbody>\n",
       "    <tr>\n",
       "      <th>0</th>\n",
       "      <td>0.40</td>\n",
       "      <td>7.47</td>\n",
       "      <td>2.840909</td>\n",
       "    </tr>\n",
       "    <tr>\n",
       "      <th>1</th>\n",
       "      <td>3.08</td>\n",
       "      <td>8.97</td>\n",
       "      <td>5.472496</td>\n",
       "    </tr>\n",
       "    <tr>\n",
       "      <th>2</th>\n",
       "      <td>-0.16</td>\n",
       "      <td>6.69</td>\n",
       "      <td>3.217889</td>\n",
       "    </tr>\n",
       "    <tr>\n",
       "      <th>3</th>\n",
       "      <td>-0.71</td>\n",
       "      <td>3.80</td>\n",
       "      <td>1.107726</td>\n",
       "    </tr>\n",
       "    <tr>\n",
       "      <th>4</th>\n",
       "      <td>-1.66</td>\n",
       "      <td>3.25</td>\n",
       "      <td>1.722222</td>\n",
       "    </tr>\n",
       "  </tbody>\n",
       "</table>\n",
       "</div>"
      ],
      "text/plain": [
       "    Chg  TORate       Amp\n",
       "0  0.40    7.47  2.840909\n",
       "1  3.08    8.97  5.472496\n",
       "2 -0.16    6.69  3.217889\n",
       "3 -0.71    3.80  1.107726\n",
       "4 -1.66    3.25  1.722222"
      ]
     },
     "execution_count": 3,
     "metadata": {},
     "output_type": "execute_result"
    }
   ],
   "source": [
    "clean_df = df.iloc[::-1].loc[:,['Chg', 'TORate','Amp']][1:]\n",
    "clean_df[0:].reset_index(drop=True).head()"
   ]
  },
  {
   "cell_type": "markdown",
   "metadata": {},
   "source": [
    "### Creating dataframe of training samples"
   ]
  },
  {
   "cell_type": "code",
   "execution_count": 4,
   "metadata": {
    "collapsed": false,
    "scrolled": false
   },
   "outputs": [
    {
     "data": {
      "text/html": [
       "<div>\n",
       "<table border=\"1\" class=\"dataframe\">\n",
       "  <thead>\n",
       "    <tr style=\"text-align: right;\">\n",
       "      <th></th>\n",
       "      <th>0</th>\n",
       "      <th>1</th>\n",
       "      <th>2</th>\n",
       "      <th>3</th>\n",
       "      <th>4</th>\n",
       "      <th>5</th>\n",
       "      <th>6</th>\n",
       "      <th>7</th>\n",
       "      <th>8</th>\n",
       "      <th>9</th>\n",
       "      <th>...</th>\n",
       "      <th>21</th>\n",
       "      <th>22</th>\n",
       "      <th>23</th>\n",
       "      <th>24</th>\n",
       "      <th>25</th>\n",
       "      <th>26</th>\n",
       "      <th>27</th>\n",
       "      <th>28</th>\n",
       "      <th>29</th>\n",
       "      <th>30</th>\n",
       "    </tr>\n",
       "  </thead>\n",
       "  <tbody>\n",
       "    <tr>\n",
       "      <th>0</th>\n",
       "      <td>0.40</td>\n",
       "      <td>7.47</td>\n",
       "      <td>2.840909</td>\n",
       "      <td>3.08</td>\n",
       "      <td>8.97</td>\n",
       "      <td>5.472496</td>\n",
       "      <td>-0.16</td>\n",
       "      <td>6.69</td>\n",
       "      <td>3.217889</td>\n",
       "      <td>-0.71</td>\n",
       "      <td>...</td>\n",
       "      <td>-0.86</td>\n",
       "      <td>1.26</td>\n",
       "      <td>2.082755</td>\n",
       "      <td>-0.31</td>\n",
       "      <td>1.72</td>\n",
       "      <td>1.098592</td>\n",
       "      <td>-1.15</td>\n",
       "      <td>2.51</td>\n",
       "      <td>1.380282</td>\n",
       "      <td>-2.22</td>\n",
       "    </tr>\n",
       "    <tr>\n",
       "      <th>1</th>\n",
       "      <td>3.08</td>\n",
       "      <td>8.97</td>\n",
       "      <td>5.472496</td>\n",
       "      <td>-0.16</td>\n",
       "      <td>6.69</td>\n",
       "      <td>3.217889</td>\n",
       "      <td>-0.71</td>\n",
       "      <td>3.80</td>\n",
       "      <td>1.107726</td>\n",
       "      <td>-1.66</td>\n",
       "      <td>...</td>\n",
       "      <td>-0.31</td>\n",
       "      <td>1.72</td>\n",
       "      <td>1.098592</td>\n",
       "      <td>-1.15</td>\n",
       "      <td>2.51</td>\n",
       "      <td>1.380282</td>\n",
       "      <td>-2.22</td>\n",
       "      <td>2.07</td>\n",
       "      <td>2.724177</td>\n",
       "      <td>-2.04</td>\n",
       "    </tr>\n",
       "    <tr>\n",
       "      <th>2</th>\n",
       "      <td>-0.16</td>\n",
       "      <td>6.69</td>\n",
       "      <td>3.217889</td>\n",
       "      <td>-0.71</td>\n",
       "      <td>3.80</td>\n",
       "      <td>1.107726</td>\n",
       "      <td>-1.66</td>\n",
       "      <td>3.25</td>\n",
       "      <td>1.722222</td>\n",
       "      <td>2.05</td>\n",
       "      <td>...</td>\n",
       "      <td>-1.15</td>\n",
       "      <td>2.51</td>\n",
       "      <td>1.380282</td>\n",
       "      <td>-2.22</td>\n",
       "      <td>2.07</td>\n",
       "      <td>2.724177</td>\n",
       "      <td>-2.04</td>\n",
       "      <td>3.58</td>\n",
       "      <td>4.903678</td>\n",
       "      <td>5.34</td>\n",
       "    </tr>\n",
       "    <tr>\n",
       "      <th>3</th>\n",
       "      <td>-0.71</td>\n",
       "      <td>3.80</td>\n",
       "      <td>1.107726</td>\n",
       "      <td>-1.66</td>\n",
       "      <td>3.25</td>\n",
       "      <td>1.722222</td>\n",
       "      <td>2.05</td>\n",
       "      <td>2.09</td>\n",
       "      <td>2.760563</td>\n",
       "      <td>-0.77</td>\n",
       "      <td>...</td>\n",
       "      <td>-2.22</td>\n",
       "      <td>2.07</td>\n",
       "      <td>2.724177</td>\n",
       "      <td>-2.04</td>\n",
       "      <td>3.58</td>\n",
       "      <td>4.903678</td>\n",
       "      <td>5.34</td>\n",
       "      <td>2.38</td>\n",
       "      <td>8.985765</td>\n",
       "      <td>2.23</td>\n",
       "    </tr>\n",
       "    <tr>\n",
       "      <th>4</th>\n",
       "      <td>-1.66</td>\n",
       "      <td>3.25</td>\n",
       "      <td>1.722222</td>\n",
       "      <td>2.05</td>\n",
       "      <td>2.09</td>\n",
       "      <td>2.760563</td>\n",
       "      <td>-0.77</td>\n",
       "      <td>1.67</td>\n",
       "      <td>1.405733</td>\n",
       "      <td>-0.86</td>\n",
       "      <td>...</td>\n",
       "      <td>-2.04</td>\n",
       "      <td>3.58</td>\n",
       "      <td>4.903678</td>\n",
       "      <td>5.34</td>\n",
       "      <td>2.38</td>\n",
       "      <td>8.985765</td>\n",
       "      <td>2.23</td>\n",
       "      <td>4.57</td>\n",
       "      <td>3.954802</td>\n",
       "      <td>-0.11</td>\n",
       "    </tr>\n",
       "  </tbody>\n",
       "</table>\n",
       "<p>5 rows × 31 columns</p>\n",
       "</div>"
      ],
      "text/plain": [
       "     0     1         2     3     4         5     6     7         8     9   \\\n",
       "0  0.40  7.47  2.840909  3.08  8.97  5.472496 -0.16  6.69  3.217889 -0.71   \n",
       "1  3.08  8.97  5.472496 -0.16  6.69  3.217889 -0.71  3.80  1.107726 -1.66   \n",
       "2 -0.16  6.69  3.217889 -0.71  3.80  1.107726 -1.66  3.25  1.722222  2.05   \n",
       "3 -0.71  3.80  1.107726 -1.66  3.25  1.722222  2.05  2.09  2.760563 -0.77   \n",
       "4 -1.66  3.25  1.722222  2.05  2.09  2.760563 -0.77  1.67  1.405733 -0.86   \n",
       "\n",
       "   ...     21    22        23    24    25        26    27    28        29  \\\n",
       "0  ...  -0.86  1.26  2.082755 -0.31  1.72  1.098592 -1.15  2.51  1.380282   \n",
       "1  ...  -0.31  1.72  1.098592 -1.15  2.51  1.380282 -2.22  2.07  2.724177   \n",
       "2  ...  -1.15  2.51  1.380282 -2.22  2.07  2.724177 -2.04  3.58  4.903678   \n",
       "3  ...  -2.22  2.07  2.724177 -2.04  3.58  4.903678  5.34  2.38  8.985765   \n",
       "4  ...  -2.04  3.58  4.903678  5.34  2.38  8.985765  2.23  4.57  3.954802   \n",
       "\n",
       "     30  \n",
       "0 -2.22  \n",
       "1 -2.04  \n",
       "2  5.34  \n",
       "3  2.23  \n",
       "4 -0.11  \n",
       "\n",
       "[5 rows x 31 columns]"
      ]
     },
     "execution_count": 4,
     "metadata": {},
     "output_type": "execute_result"
    }
   ],
   "source": [
    "df_list = []\n",
    "\n",
    "for i in range(10):\n",
    "    df_list.append(clean_df[i:].reset_index(drop=True))\n",
    "\n",
    "df_list.append(clean_df[['Chg']][10:].reset_index(drop=True))\n",
    "\n",
    "sample_df = pd.concat(df_list, axis=1, join='inner', ignore_index=True)\n",
    "sample_df.head()"
   ]
  },
  {
   "cell_type": "markdown",
   "metadata": {
    "collapsed": true
   },
   "source": [
    "## Building the deep neuron network"
   ]
  },
  {
   "cell_type": "markdown",
   "metadata": {},
   "source": [
    "### creating the training sets"
   ]
  },
  {
   "cell_type": "code",
   "execution_count": 5,
   "metadata": {
    "collapsed": false
   },
   "outputs": [
    {
     "data": {
      "text/plain": [
       "(3790, 30)"
      ]
     },
     "execution_count": 5,
     "metadata": {},
     "output_type": "execute_result"
    }
   ],
   "source": [
    "trainX = sample_df.loc[:, 0:29].values\n",
    "trainX = np.array(trainX, ndmin=2)\n",
    "trainX.shape"
   ]
  },
  {
   "cell_type": "code",
   "execution_count": 6,
   "metadata": {
    "collapsed": false
   },
   "outputs": [
    {
     "data": {
      "text/plain": [
       "(3790, 1)"
      ]
     },
     "execution_count": 6,
     "metadata": {},
     "output_type": "execute_result"
    }
   ],
   "source": [
    "trainY = sample_df[30].values\n",
    "trainY = np.array(trainY, ndmin=2).T\n",
    "trainY.shape"
   ]
  },
  {
   "cell_type": "markdown",
   "metadata": {},
   "source": [
    "### Building Network"
   ]
  },
  {
   "cell_type": "code",
   "execution_count": 16,
   "metadata": {
    "collapsed": false
   },
   "outputs": [],
   "source": [
    "import tensorflow as tf\n",
    "import tflearn\n",
    "\n",
    "tf.reset_default_graph()\n",
    "tflearn.init_graph(num_cores=8, gpu_memory_fraction=0.5)\n",
    "\n",
    "net = tflearn.input_data(shape=[None, trainX.shape[1]])\n",
    "net = tflearn.fully_connected(net, 15, activation='relu')\n",
    "#net = tflearn.dropout(net, 0.5)\n",
    "net = tflearn.fully_connected(net, 1)\n",
    "net = tflearn.regression(net, optimizer='sgd', learning_rate=0.05, loss=tflearn.objectives.mean_square)\n",
    "\n",
    "model = tflearn.DNN(net)"
   ]
  },
  {
   "cell_type": "markdown",
   "metadata": {
    "collapsed": true
   },
   "source": [
    "### Training Network"
   ]
  }
 ],
 "metadata": {
  "kernelspec": {
   "display_name": "Python 3",
   "language": "python",
   "name": "python3"
  },
  "language_info": {
   "codemirror_mode": {
    "name": "ipython",
    "version": 3
   },
   "file_extension": ".py",
   "mimetype": "text/x-python",
   "name": "python",
   "nbconvert_exporter": "python",
   "pygments_lexer": "ipython3",
   "version": "3.5.2"
  }
 },
 "nbformat": 4,
 "nbformat_minor": 0
}
